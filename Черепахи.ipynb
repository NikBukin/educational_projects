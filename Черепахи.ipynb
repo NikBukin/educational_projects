{
 "cells": [
  {
   "cell_type": "code",
   "execution_count": 1,
   "id": "10590a6a",
   "metadata": {},
   "outputs": [],
   "source": [
    "import numpy as np"
   ]
  },
  {
   "cell_type": "code",
   "execution_count": 20,
   "id": "7f0a5bc0",
   "metadata": {},
   "outputs": [],
   "source": [
    "matrix = [[2,4,3,5,1],[3,1,2,3,4],[1,2,5,2,2],[1,4,2,3,4]]"
   ]
  },
  {
   "cell_type": "code",
   "execution_count": 21,
   "id": "81d74af0",
   "metadata": {},
   "outputs": [
    {
     "data": {
      "text/plain": [
       "array([[2, 4, 3, 5, 1],\n",
       "       [3, 1, 2, 3, 4],\n",
       "       [1, 2, 5, 2, 2],\n",
       "       [1, 4, 2, 3, 4]])"
      ]
     },
     "execution_count": 21,
     "metadata": {},
     "output_type": "execute_result"
    }
   ],
   "source": [
    "np.array(matrix)"
   ]
  },
  {
   "cell_type": "code",
   "execution_count": 88,
   "id": "80419d74",
   "metadata": {},
   "outputs": [],
   "source": [
    "def turt(matrix, pr=False):\n",
    "    m = [0 for i in range(len(matrix[0]))]\n",
    "    c = np.concatenate([[m], matrix], axis=0)\n",
    "    m = [[0] for i in range(len(c))]\n",
    "    c = np.hstack([m, c]) \n",
    "    \n",
    "    \n",
    "    for i in range(len(matrix)):\n",
    "        for j in range(len(matrix[0])):\n",
    "            c[i+1][j+1] = c[i+1][j+1] + max([c[i][j+1],c[i+1][j]])\n",
    "    \n",
    "    step = np.zeros((len(matrix),len(matrix[0])))\n",
    "    l = -1\n",
    "    k = -1\n",
    "    step[l][k] = c[l][k]\n",
    "    for i in range(len(matrix)+len(matrix[0])-2):\n",
    "        if c[l-1][k]>c[l][k-1]:\n",
    "            l = l - 1\n",
    "        else:\n",
    "            k = k-1\n",
    "        step[l][k] = c[l][k]\n",
    "                \n",
    "    if pr:print(step)\n",
    "    return(c[-1][-1])"
   ]
  },
  {
   "cell_type": "code",
   "execution_count": 89,
   "id": "b302d2e1",
   "metadata": {},
   "outputs": [
    {
     "name": "stdout",
     "output_type": "stream",
     "text": [
      "[[ 2.  6.  9. 14.  0.]\n",
      " [ 0.  0.  0. 17. 21.]\n",
      " [ 0.  0.  0.  0. 23.]\n",
      " [ 0.  0.  0.  0. 27.]]\n"
     ]
    },
    {
     "data": {
      "text/plain": [
       "27"
      ]
     },
     "execution_count": 89,
     "metadata": {},
     "output_type": "execute_result"
    }
   ],
   "source": [
    "turt(matrix, pr=True)"
   ]
  },
  {
   "cell_type": "code",
   "execution_count": null,
   "id": "e7fcd953",
   "metadata": {},
   "outputs": [],
   "source": []
  }
 ],
 "metadata": {
  "kernelspec": {
   "display_name": "Python 3 (ipykernel)",
   "language": "python",
   "name": "python3"
  },
  "language_info": {
   "codemirror_mode": {
    "name": "ipython",
    "version": 3
   },
   "file_extension": ".py",
   "mimetype": "text/x-python",
   "name": "python",
   "nbconvert_exporter": "python",
   "pygments_lexer": "ipython3",
   "version": "3.9.12"
  }
 },
 "nbformat": 4,
 "nbformat_minor": 5
}
