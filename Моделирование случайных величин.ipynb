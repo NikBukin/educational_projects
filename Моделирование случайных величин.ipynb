{
 "cells": [
  {
   "cell_type": "code",
   "execution_count": 1,
   "id": "07862f0d",
   "metadata": {},
   "outputs": [],
   "source": [
    "import seaborn as sns\n",
    "import numpy as np\n",
    "import matplotlib.pyplot as plt\n",
    "import random\n",
    "import math"
   ]
  },
  {
   "cell_type": "markdown",
   "id": "f746bc04",
   "metadata": {},
   "source": [
    "## Метод серединных квадратов (фон Нейман)"
   ]
  },
  {
   "cell_type": "code",
   "execution_count": 2,
   "id": "e98efcc0",
   "metadata": {},
   "outputs": [],
   "source": [
    "def mean_q(start,steps):    \n",
    "    base = []\n",
    "    len_ = len(str(start))\n",
    "    for i in range(steps):\n",
    "        start = str(start*start)\n",
    "        new_start = ''\n",
    "        if len(str(start))<2*len_:\n",
    "            par = 2*len_ - len(str(start))\n",
    "            start = par*'0'+str(start)\n",
    "        for j in range(len_):\n",
    "            new_start = new_start + str(start)[int(j+len_-len_/2)]\n",
    "        num_in_base = float('0.'+str(start))\n",
    "        \n",
    "        \n",
    "        start = int(new_start)\n",
    "        base.append(num_in_base)\n",
    "\n",
    "    return(base)"
   ]
  },
  {
   "cell_type": "code",
   "execution_count": 3,
   "id": "024232b1",
   "metadata": {},
   "outputs": [
    {
     "data": {
      "text/plain": [
       "[0.74770609,\n",
       " 0.59382436,\n",
       " 0.14622976,\n",
       " 0.38800441,\n",
       " 0.64064016,\n",
       " 0.004096,\n",
       " 0.16777216,\n",
       " 0.60403984,\n",
       " 0.16313521,\n",
       " 0.09828225]"
      ]
     },
     "execution_count": 3,
     "metadata": {},
     "output_type": "execute_result"
    }
   ],
   "source": [
    "mean_q(8647,10)"
   ]
  },
  {
   "cell_type": "code",
   "execution_count": 4,
   "id": "a7ca551f",
   "metadata": {},
   "outputs": [
    {
     "data": {
      "image/png": "[encoded data removed]",
      "text/plain": [
       "<Figure size 432x288 with 1 Axes>"
      ]
     },
     "metadata": {
      "needs_background": "light"
     },
     "output_type": "display_data"
    }
   ],
   "source": [
    "import numpy as np\n",
    "import matplotlib.pyplot as plt\n",
    "\n",
    "fig = plt.figure()\n",
    "ax = fig.add_subplot()\n",
    "ax.hist(mean_q(276506,10000), edgecolor='black')\n",
    "!"
   ]
  },
  {
   "cell_type": "markdown",
   "id": "27313d9d",
   "metadata": {},
   "source": [
    "## Линейный конгруэнтный датчик случайных чисел"
   ]
  },
  {
   "cell_type": "code",
   "execution_count": 5,
   "id": "1abb3943",
   "metadata": {},
   "outputs": [],
   "source": [
    "def kongurent_q(r,k,b,step):  \n",
    "    base = [float(\"0.\"+str(r))]\n",
    "    len_ = len(str(r))\n",
    "    par = 10**len_\n",
    "    for i in range(step):\n",
    "        r = (r*k+b)%par\n",
    "        base.append(float(\"0.\"+str(r)))\n",
    "    return(base)"
   ]
  },
  {
   "cell_type": "code",
   "execution_count": 6,
   "id": "408c0b60",
   "metadata": {},
   "outputs": [
    {
     "data": {
      "text/plain": [
       "[0.4675,\n",
       " 0.9353,\n",
       " 0.8709,\n",
       " 0.7421,\n",
       " 0.4845,\n",
       " 0.9693,\n",
       " 0.9389,\n",
       " 0.8781,\n",
       " 0.7565,\n",
       " 0.5133,\n",
       " 0.269]"
      ]
     },
     "execution_count": 6,
     "metadata": {},
     "output_type": "execute_result"
    }
   ],
   "source": [
    "kongurent_q(4675,2,3,10)"
   ]
  },
  {
   "cell_type": "code",
   "execution_count": 7,
   "id": "5b74d992",
   "metadata": {},
   "outputs": [
    {
     "data": {
      "image/png": "[encoded data removed]",
      "text/plain": [
       "<Figure size 432x288 with 1 Axes>"
      ]
     },
     "metadata": {
      "needs_background": "light"
     },
     "output_type": "display_data"
    }
   ],
   "source": [
    "fig = plt.figure()\n",
    "ax = fig.add_subplot()\n",
    "ax.hist(kongurent_q(46447,2,3,10000), edgecolor='black')\n",
    "!"
   ]
  },
  {
   "cell_type": "markdown",
   "id": "bc865ea7",
   "metadata": {},
   "source": [
    "## Метод обратной функции, получить последовательность случайных чисел, распределенных экспоненциально"
   ]
  },
  {
   "cell_type": "code",
   "execution_count": 8,
   "id": "56999b42",
   "metadata": {},
   "outputs": [],
   "source": [
    "import random\n",
    "import math\n",
    "def exp(lam, step):\n",
    "    r = random.random()\n",
    "    base = []\n",
    "    base_ = []\n",
    "    for i in range(step):\n",
    "        r = random.random()\n",
    "        x = -math.log(r)/lam\n",
    "        base.append(x)\n",
    "    return(base)"
   ]
  },
  {
   "cell_type": "code",
   "execution_count": 9,
   "id": "aa11ce4b",
   "metadata": {},
   "outputs": [
    {
     "data": {
      "text/plain": [
       "[0.03857569338981216,\n",
       " 0.38174810330682607,\n",
       " 0.4103361599547958,\n",
       " 1.2714470258839834,\n",
       " 0.10493340991243127,\n",
       " 1.4774384426187572,\n",
       " 0.5012181366868718,\n",
       " 0.20943088017629466,\n",
       " 1.6184119043989555,\n",
       " 0.47314024967989654]"
      ]
     },
     "execution_count": 9,
     "metadata": {},
     "output_type": "execute_result"
    }
   ],
   "source": [
    "exp(1, 10)"
   ]
  },
  {
   "cell_type": "code",
   "execution_count": 10,
   "id": "c97531f0",
   "metadata": {},
   "outputs": [
    {
     "name": "stdout",
     "output_type": "stream",
     "text": [
      "Мат.ожидание: 0.5\n",
      "Дисперсия: 0.25\n"
     ]
    },
    {
     "data": {
      "image/png": "[encoded data removed]",
      "text/plain": [
       "<Figure size 432x288 with 1 Axes>"
      ]
     },
     "metadata": {
      "needs_background": "light"
     },
     "output_type": "display_data"
    }
   ],
   "source": [
    "fig = plt.figure()\n",
    "ax = fig.add_subplot()\n",
    "lam = 2\n",
    "ax.hist(exp(lam, 1000), edgecolor='black',bins= 100)\n",
    "print('Мат.ожидание: '+ str(1/lam))\n",
    "print('Дисперсия: '+ str(1/lam**2))"
   ]
  },
  {
   "cell_type": "markdown",
   "id": "649cd5ca",
   "metadata": {},
   "source": [
    "## Последовательность случайных чисел, используя преобразование Бокса-Мюллера\n"
   ]
  },
  {
   "cell_type": "code",
   "execution_count": 10,
   "id": "8d9b2548",
   "metadata": {},
   "outputs": [],
   "source": [
    "def box_mul(step):\n",
    "    base = []\n",
    "    for i in range(step):\n",
    "        r1 = random.random()\n",
    "        r2 = random.random()\n",
    "        u_1 = np.cos(2*np.pi*r1)*(-2*math.log(r2))**(0.5)\n",
    "        u_2 = np.sin(2*np.pi*r1)*(-2*math.log(r2))**(0.5)\n",
    "        base.append((r1+r2+u_1+u_2-2))\n",
    "    return base"
   ]
  },
  {
   "cell_type": "code",
   "execution_count": 11,
   "id": "16318759",
   "metadata": {},
   "outputs": [
    {
     "data": {
      "text/plain": [
       "[-3.6921454222330663,\n",
       " -1.8775003090056337,\n",
       " -4.915788268247838,\n",
       " 0.783284243808116,\n",
       " -3.0829563475008652,\n",
       " -1.3145114181597921,\n",
       " 0.2052488328078632,\n",
       " -0.5515850478942055,\n",
       " 0.1058331971043498,\n",
       " 1.10025077029771]"
      ]
     },
     "execution_count": 11,
     "metadata": {},
     "output_type": "execute_result"
    }
   ],
   "source": [
    "box_mul(10)"
   ]
  },
  {
   "cell_type": "code",
   "execution_count": 66,
   "id": "932d747e",
   "metadata": {},
   "outputs": [
    {
     "name": "stderr",
     "output_type": "stream",
     "text": [
      "C:\\ProgramData\\Anaconda3\\lib\\site-packages\\seaborn\\distributions.py:2619: FutureWarning: `distplot` is a deprecated function and will be removed in a future version. Please adapt your code to use either `displot` (a figure-level function with similar flexibility) or `histplot` (an axes-level function for histograms).\n",
      "  warnings.warn(msg, FutureWarning)\n"
     ]
    },
    {
     "data": {
      "text/plain": [
       "<AxesSubplot:ylabel='Density'>"
      ]
     },
     "execution_count": 66,
     "metadata": {},
     "output_type": "execute_result"
    },
    {
     "data": {
      "image/png": "[encoded data removed]",
      "text/plain": [
       "<Figure size 432x288 with 1 Axes>"
      ]
     },
     "metadata": {
      "needs_background": "light"
     },
     "output_type": "display_data"
    }
   ],
   "source": [
    "sns.distplot(box_mul(10000), hist=True, kde=True, \n",
    "             bins=int(180/5), color = 'darkblue', \n",
    "             hist_kws={'edgecolor':'black'},\n",
    "             kde_kws={'linewidth': 4})"
   ]
  },
  {
   "cell_type": "markdown",
   "id": "8089f64e",
   "metadata": {},
   "source": [
    "## Нормальное распределение"
   ]
  },
  {
   "cell_type": "code",
   "execution_count": 13,
   "id": "982db3ed",
   "metadata": {},
   "outputs": [],
   "source": [
    "def norm_raspr(step, n):\n",
    "    base = []\n",
    "    for i in range(step):\n",
    "        base_ = [random.random() for j in range(n)]\n",
    "        summ = sum(base_)\n",
    "        base.append(((12/step)**0.5)*(summ - step/2))\n",
    "    return base"
   ]
  },
  {
   "cell_type": "code",
   "execution_count": 14,
   "id": "44f59873",
   "metadata": {},
   "outputs": [
    {
     "data": {
      "text/plain": [
       "[-1.0872571347216766,\n",
       " 0.24659761542188988,\n",
       " 0.895881107308047,\n",
       " 0.596308771733662,\n",
       " 0.7408008752527243,\n",
       " 0.7220695204580165,\n",
       " -1.494467231572738,\n",
       " -0.9281897281200876,\n",
       " 0.1425159521048121,\n",
       " 0.36192780571988825]"
      ]
     },
     "execution_count": 14,
     "metadata": {},
     "output_type": "execute_result"
    }
   ],
   "source": [
    "norm_raspr(10,10)"
   ]
  },
  {
   "cell_type": "code",
   "execution_count": 71,
   "id": "e5d776a5",
   "metadata": {},
   "outputs": [
    {
     "name": "stderr",
     "output_type": "stream",
     "text": [
      "C:\\ProgramData\\Anaconda3\\lib\\site-packages\\seaborn\\distributions.py:2619: FutureWarning: `distplot` is a deprecated function and will be removed in a future version. Please adapt your code to use either `displot` (a figure-level function with similar flexibility) or `histplot` (an axes-level function for histograms).\n",
      "  warnings.warn(msg, FutureWarning)\n"
     ]
    },
    {
     "data": {
      "text/plain": [
       "<AxesSubplot:ylabel='Density'>"
      ]
     },
     "execution_count": 71,
     "metadata": {},
     "output_type": "execute_result"
    },
    {
     "data": {
      "image/png": "[encoded data removed]",
      "text/plain": [
       "<Figure size 432x288 with 1 Axes>"
      ]
     },
     "metadata": {
      "needs_background": "light"
     },
     "output_type": "display_data"
    }
   ],
   "source": [
    "sns.distplot(norm_raspr(10000, 1000), hist=True, kde=True, \n",
    "             bins=int(180/5), color = 'darkblue', \n",
    "             hist_kws={'edgecolor':'black'},\n",
    "             kde_kws={'linewidth': 4})"
   ]
  },
  {
   "cell_type": "markdown",
   "id": "c21444e3",
   "metadata": {},
   "source": [
    "## Треугольное распределение"
   ]
  },
  {
   "cell_type": "code",
   "execution_count": 59,
   "id": "641d2f87",
   "metadata": {},
   "outputs": [],
   "source": [
    "def tring_raspr(a,c,b, step):\n",
    "    base = []\n",
    "    for i in range(int(step/2)):\n",
    "        r = random.random()\n",
    "        base.append((2*b - r*(b-a)*(b-c))/2)\n",
    "        base.append((r*(b-a)*(c-a)+2*a)/2)\n",
    "    return base"
   ]
  },
  {
   "cell_type": "code",
   "execution_count": 68,
   "id": "2a46e291",
   "metadata": {},
   "outputs": [
    {
     "data": {
      "text/plain": [
       "[0.7574521219664287,\n",
       " 19.485095756067143,\n",
       " 7.64282590728086,\n",
       " 5.714348185438279,\n",
       " 1.5677385279406657,\n",
       " 17.86452294411867,\n",
       " 1.696462366396915,\n",
       " 17.60707526720617,\n",
       " 3.5110487435415454,\n",
       " 13.97790251291691]"
      ]
     },
     "execution_count": 68,
     "metadata": {},
     "output_type": "execute_result"
    }
   ],
   "source": [
    "tring_raspr(1,7,10, 10)"
   ]
  },
  {
   "cell_type": "code",
   "execution_count": 73,
   "id": "5f3b886d",
   "metadata": {},
   "outputs": [
    {
     "data": {
      "image/png": "[encoded data removed]",
      "text/plain": [
       "<Figure size 432x288 with 1 Axes>"
      ]
     },
     "metadata": {
      "needs_background": "light"
     },
     "output_type": "display_data"
    }
   ],
   "source": [
    "fig = plt.figure()\n",
    "ax = fig.add_subplot()\n",
    "ax.hist(tring_raspr(1,6,10, 1000), edgecolor='black',bins= 100)\n",
    "!"
   ]
  },
  {
   "cell_type": "markdown",
   "id": "3b740ac5",
   "metadata": {},
   "source": [
    "## Метод Монте-Карло"
   ]
  },
  {
   "cell_type": "code",
   "execution_count": 95,
   "id": "b59bdde6",
   "metadata": {},
   "outputs": [],
   "source": [
    "def Monte_Carlo(step):\n",
    "    base = []\n",
    "    for i in range(step):\n",
    "        num_pos = 0\n",
    "        for i in range(i+1):\n",
    "            x = random.random()\n",
    "            y = random.random()\n",
    "            if y<=math.sin(np.pi * x):\n",
    "                num_pos = num_pos + 1\n",
    "        base.append(num_pos/(i+1))\n",
    "    return base"
   ]
  },
  {
   "cell_type": "code",
   "execution_count": 98,
   "id": "d2b04ad2",
   "metadata": {},
   "outputs": [
    {
     "data": {
      "text/plain": [
       "[<matplotlib.lines.Line2D at 0x1d27db29af0>]"
      ]
     },
     "execution_count": 98,
     "metadata": {},
     "output_type": "execute_result"
    },
    {
     "data": {
      "image/png": "[encoded data removed]",
      "text/plain": [
       "<Figure size 432x288 with 1 Axes>"
      ]
     },
     "metadata": {
      "needs_background": "light"
     },
     "output_type": "display_data"
    }
   ],
   "source": [
    "plt.plot(Monte_Carlo(1000))"
   ]
  },
  {
   "cell_type": "markdown",
   "id": "c2921552",
   "metadata": {},
   "source": [
    "## Метод статистических испытаний"
   ]
  },
  {
   "cell_type": "code",
   "execution_count": null,
   "id": "b4c95b03",
   "metadata": {},
   "outputs": [],
   "source": [
    "def stat_test(step):\n",
    "    pass"
   ]
  }
 ],
 "metadata": {
  "kernelspec": {
   "display_name": "Python 3 (ipykernel)",
   "language": "python",
   "name": "python3"
  },
  "language_info": {
   "codemirror_mode": {
    "name": "ipython",
    "version": 3
   },
   "file_extension": ".py",
   "mimetype": "text/x-python",
   "name": "python",
   "nbconvert_exporter": "python",
   "pygments_lexer": "ipython3",
   "version": "3.9.12"
  }
 },
 "nbformat": 4,
 "nbformat_minor": 5
}
