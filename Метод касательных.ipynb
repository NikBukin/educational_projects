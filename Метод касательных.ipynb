{
 "cells": [
  {
   "cell_type": "code",
   "execution_count": 1,
   "id": "88d17212",
   "metadata": {},
   "outputs": [],
   "source": [
    "def F(x):\n",
    "  return x**4 + x**3 + 7*x**2 + 2*x + 5\n",
    "def f(x):\n",
    "  return 4*x**3 + 3*x**2 + 14*x + 3\n",
    "def ff(x):\n",
    "  return 12*x**2 + 6*x + 14"
   ]
  },
  {
   "cell_type": "code",
   "execution_count": 4,
   "id": "de1fa7ca",
   "metadata": {},
   "outputs": [],
   "source": [
    "def minkas(a,b,e):\n",
    "    i = 0\n",
    "    x = b\n",
    "    print(f(x))\n",
    "    while F(x)*f(x)>e:\n",
    "        i = i + 1\n",
    "        h = f(x)/ff(x)\n",
    "        x = x - h\n",
    "        print([[i],[x],[f(x)]])\n",
    "\n",
    "    print('')\n",
    "    print('Полученное оптимальное значение х* = ', x)\n",
    "    print('Соответствующее значение f(х*) = ', F(x))"
   ]
  },
  {
   "cell_type": "code",
   "execution_count": 5,
   "id": "3cbb43e9",
   "metadata": {},
   "outputs": [
    {
     "name": "stdout",
     "output_type": "stream",
     "text": [
      "75\n",
      "[[1], [0.9864864864864864], [23.570296922196118]]\n",
      "[[2], [0.2405151417831739], [6.596407416061364]]\n",
      "[[3], [-0.16825356519405604], [0.7103253367117497]]\n",
      "[[4], [-0.22154052882729544], [0.0021801950653537183]]\n",
      "[[5], [-0.2217049512420055], [9.214949248104176e-09]]\n",
      "\n",
      "Полученное оптимальное значение х* =  -0.2217049512420055\n",
      "Соответствующее значение f(х*) =  4.892180238754223\n"
     ]
    }
   ],
   "source": [
    "minkas(-3,2,0.0001)"
   ]
  },
  {
   "cell_type": "code",
   "execution_count": null,
   "id": "1d7e88c9",
   "metadata": {},
   "outputs": [],
   "source": [
    "## не хочет запускаться, но в колабе работает"
   ]
  }
 ],
 "metadata": {
  "kernelspec": {
   "display_name": "Python 3 (ipykernel)",
   "language": "python",
   "name": "python3"
  },
  "language_info": {
   "codemirror_mode": {
    "name": "ipython",
    "version": 3
   },
   "file_extension": ".py",
   "mimetype": "text/x-python",
   "name": "python",
   "nbconvert_exporter": "python",
   "pygments_lexer": "ipython3",
   "version": "3.9.12"
  }
 },
 "nbformat": 4,
 "nbformat_minor": 5
}
