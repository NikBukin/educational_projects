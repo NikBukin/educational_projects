{
 "cells": [
  {
   "cell_type": "code",
   "execution_count": 39,
   "id": "97e59155",
   "metadata": {},
   "outputs": [],
   "source": [
    "import numpy as np"
   ]
  },
  {
   "cell_type": "markdown",
   "id": "d7e209c2",
   "metadata": {},
   "source": [
    "### Пункт №1 и №2"
   ]
  },
  {
   "cell_type": "code",
   "execution_count": 41,
   "id": "01119b1d",
   "metadata": {},
   "outputs": [
    {
     "name": "stdout",
     "output_type": "stream",
     "text": [
      "0 1 0 1\n",
      "0 0 1 1\n",
      "0 1 0 0\n",
      "1 0 1 0\n"
     ]
    },
    {
     "data": {
      "text/plain": [
       "array([[1, 0, 1, 1],\n",
       "       [1, 1, 1, 0],\n",
       "       [0, 0, 1, 1],\n",
       "       [0, 1, 0, 1]])"
      ]
     },
     "execution_count": 41,
     "metadata": {},
     "output_type": "execute_result"
    }
   ],
   "source": [
    "def matrix(n): # ф-ция для ввода матрицы смежности размером n x n\n",
    "    A = []\n",
    "    for i in range(n):\n",
    "        A.append(list(map(int, input().split())))\n",
    "    return np.array(A)\n",
    "\n",
    "def log_times(matrix1, matrix2): # ф-ция логического умножения заданной матрицы заданного порядка\n",
    "    a = matrix1\n",
    "    b = matrix2\n",
    "    total = a.dot(b)\n",
    "    for i in total:\n",
    "        for j in range(len(i)):\n",
    "            if i[j] != 0: \n",
    "                i[j] = 1 \n",
    "    return total\n",
    "\n",
    "A = matrix(4)\n",
    "def matrix_mult(matrix,order):\n",
    "    if order ==1:\n",
    "        return matrix\n",
    "    else:\n",
    "        return log_times(matrix_mult(matrix,order - 1),matrix)\n",
    "\n",
    "matrix_mult(A, 2)"
   ]
  },
  {
   "cell_type": "markdown",
   "id": "d0991cb9",
   "metadata": {},
   "source": [
    "### Пункт №3"
   ]
  },
  {
   "cell_type": "code",
   "execution_count": 42,
   "id": "69b59b45",
   "metadata": {},
   "outputs": [
    {
     "name": "stdout",
     "output_type": "stream",
     "text": [
      "Cуществует путь длины 2 из вершины 1 в вершину 4\n"
     ]
    }
   ],
   "source": [
    "def way_xy(matrix, x, y, l):\n",
    "    if M(matrix, l)[x - 1][y - 1] == 0:\n",
    "        print(f'Не существует пути длины {l} из вершины {x} в вершину {y}')\n",
    "    else:\n",
    "        print(f'Cуществует путь длины {l} из вершины {x} в вершину {y}')\n",
    "way_xy(A, 1, 4, 2)   "
   ]
  },
  {
   "cell_type": "markdown",
   "id": "6740b857",
   "metadata": {},
   "source": [
    "### Пункт №4"
   ]
  },
  {
   "cell_type": "code",
   "execution_count": 43,
   "id": "684f6b78",
   "metadata": {},
   "outputs": [
    {
     "name": "stdout",
     "output_type": "stream",
     "text": [
      "Cуществует путь из вершины 1 в вершину 3\n"
     ]
    }
   ],
   "source": [
    "def way(matrix, x, y): \n",
    "    a = False\n",
    "    for i in range(len(matrix)):\n",
    "        if M(matrix, i + 1)[x - 1][y - 1] == 1:\n",
    "            a = True\n",
    "    if a:\n",
    "        print(f'Cуществует путь из вершины {x} в вершину {y}')\n",
    "    else:\n",
    "        print(f'Не существует пути из вершины {x} в вершину {y}')\n",
    "way(A, 1, 3)   "
   ]
  }
 ],
 "metadata": {
  "kernelspec": {
   "display_name": "Python 3 (ipykernel)",
   "language": "python",
   "name": "python3"
  },
  "language_info": {
   "codemirror_mode": {
    "name": "ipython",
    "version": 3
   },
   "file_extension": ".py",
   "mimetype": "text/x-python",
   "name": "python",
   "nbconvert_exporter": "python",
   "pygments_lexer": "ipython3",
   "version": "3.9.12"
  }
 },
 "nbformat": 4,
 "nbformat_minor": 5
}
