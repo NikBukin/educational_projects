{
 "cells": [
  {
   "cell_type": "code",
   "execution_count": 2,
   "id": "d514221a",
   "metadata": {},
   "outputs": [],
   "source": [
    "import networkx as nx\n",
    "import numpy as np\n",
    "import ipywidgets as widgets\n",
    "from ipywidgets import interact, interact_manual\n",
    "import matplotlib.pyplot as plt\n",
    "import time"
   ]
  },
  {
   "cell_type": "code",
   "execution_count": 3,
   "id": "95a7d559",
   "metadata": {},
   "outputs": [],
   "source": [
    "e = [(1,2,29),(2,3,29),(1,4,22),(2,5,15),(2,6,20),(6,3,32),(3,7,28),(4,5,27),(5,6,14),(6,7,31),(4,8,23),(5,8,18),(5,9,19),(2,9,24),(9,10,26),(6,10,30),(10,7,27)]"
   ]
  },
  {
   "cell_type": "code",
   "execution_count": 4,
   "id": "44a4d90d",
   "metadata": {},
   "outputs": [],
   "source": [
    "G = nx.Graph()\n",
    "G.add_weighted_edges_from(e)"
   ]
  },
  {
   "cell_type": "code",
   "execution_count": 13,
   "id": "6d6fd5f8",
   "metadata": {},
   "outputs": [
    {
     "data": {
      "text/plain": [
       "[(1, 2, 29),\n",
       " (2, 3, 29),\n",
       " (1, 4, 22),\n",
       " (2, 5, 15),\n",
       " (2, 6, 20),\n",
       " (6, 3, 32),\n",
       " (3, 7, 28),\n",
       " (4, 5, 27),\n",
       " (5, 6, 14),\n",
       " (6, 7, 31),\n",
       " (4, 8, 23),\n",
       " (5, 8, 18),\n",
       " (5, 9, 19),\n",
       " (2, 9, 24),\n",
       " (9, 10, 26),\n",
       " (6, 10, 30),\n",
       " (10, 7, 27)]"
      ]
     },
     "execution_count": 13,
     "metadata": {},
     "output_type": "execute_result"
    }
   ],
   "source": [
    "e"
   ]
  },
  {
   "cell_type": "code",
   "execution_count": 6,
   "id": "3357fbdc",
   "metadata": {},
   "outputs": [],
   "source": [
    "def set_l(comp):\n",
    "    l=[]\n",
    "    for i in comp:\n",
    "        l.append(i[0])\n",
    "        l.append(i[1])\n",
    "    return set(l)\n",
    "def unic_(e):\n",
    "    l=[]\n",
    "    for i in e:\n",
    "        l.append(i[0])\n",
    "        l.append(i[1])\n",
    "    return list(set(l))"
   ]
  },
  {
   "cell_type": "code",
   "execution_count": 7,
   "id": "6edd6b7f",
   "metadata": {},
   "outputs": [],
   "source": [
    "def prima(e, x = len(set(G))):\n",
    "    edges = sorted(e, key=lambda x:x[2])\n",
    "    comp = []\n",
    "    comp.append(edges[0])\n",
    "    edges.remove(edges[0])\n",
    "    for i in range(x-1):\n",
    "        find_min_list = []\n",
    "        for c in set_l(comp):\n",
    "            for ed in edges:\n",
    "                if (ed[0] == c) or (ed[1] == c): find_min_list.append(ed) \n",
    "        find_min_list = sorted(find_min_list, key=lambda x:x[2])\n",
    "        for i in find_min_list:\n",
    "            if not (i[0] in set_l(comp) and (i[1] in set_l(comp))):\n",
    "                comp.append(i)\n",
    "                edges.remove(i)\n",
    "                break\n",
    "    return comp"
   ]
  },
  {
   "cell_type": "code",
   "execution_count": 8,
   "id": "c2b486da",
   "metadata": {},
   "outputs": [
    {
     "data": {
      "text/plain": [
       "[(5, 6, 14),\n",
       " (2, 5, 15),\n",
       " (5, 8, 18),\n",
       " (5, 9, 19),\n",
       " (4, 8, 23),\n",
       " (1, 4, 22),\n",
       " (9, 10, 26),\n",
       " (10, 7, 27),\n",
       " (3, 7, 28)]"
      ]
     },
     "execution_count": 8,
     "metadata": {},
     "output_type": "execute_result"
    }
   ],
   "source": [
    "prima(e)"
   ]
  },
  {
   "cell_type": "code",
   "execution_count": 9,
   "id": "3fd45256",
   "metadata": {},
   "outputs": [],
   "source": [
    "def kraskal(e, x = len(set(G))-1):\n",
    "    edges = sorted(e, key=lambda x:x[2])\n",
    "    comp = []\n",
    "    p = [[] for p in range(len(set(G)))]\n",
    "    p[edges[0][0]-1].append(edges[0][1])\n",
    "    p[edges[0][1]-1].append(edges[0][0])\n",
    "    comp.append(edges[0])\n",
    "    edges.remove(edges[0])\n",
    "    n = 1\n",
    "    while n != x:\n",
    "        if not (edges[0][0] in p[edges[0][1]-1] or edges[0][1] in p[edges[0][0]-1]):\n",
    "#             print( p[edges[0][0]-1], edges[0][1])\n",
    "#             print( p[edges[0][1]-1], edges[0][0])\n",
    "#             print(p)\n",
    "            p[edges[0][0]-1].append(edges[0][1])\n",
    "            p[edges[0][1]-1].append(edges[0][0])\n",
    "            comp.append(edges[0])\n",
    "            for p_ in p[edges[0][1]-1]:\n",
    "                p[edges[0][0]-1].append(p_)\n",
    "            for p_ in p[edges[0][0]-1]:\n",
    "                p[edges[0][1]-1].append(p_)\n",
    "            p[edges[0][0]-1] = list(set(p[edges[0][0]-1]))\n",
    "            p[edges[0][1]-1] = list(set(p[edges[0][1]-1]))\n",
    "            n = n+1\n",
    "        edges.remove(edges[0])\n",
    "    return comp"
   ]
  },
  {
   "cell_type": "code",
   "execution_count": 10,
   "id": "7f854280",
   "metadata": {},
   "outputs": [
    {
     "data": {
      "text/plain": [
       "[(5, 6, 14),\n",
       " (2, 5, 15),\n",
       " (5, 8, 18),\n",
       " (5, 9, 19),\n",
       " (1, 4, 22),\n",
       " (4, 8, 23),\n",
       " (9, 10, 26),\n",
       " (10, 7, 27),\n",
       " (3, 7, 28)]"
      ]
     },
     "execution_count": 10,
     "metadata": {},
     "output_type": "execute_result"
    }
   ],
   "source": [
    "kraskal(e)"
   ]
  },
  {
   "cell_type": "markdown",
   "id": "4e05260e",
   "metadata": {},
   "source": [
    "# Краскал"
   ]
  },
  {
   "cell_type": "code",
   "execution_count": 11,
   "id": "ccffaf20",
   "metadata": {
    "scrolled": true
   },
   "outputs": [
    {
     "data": {
      "application/vnd.jupyter.widget-view+json": {
       "model_id": "1bd07896a0054a208755c11623ee5173",
       "version_major": 2,
       "version_minor": 0
      },
      "text/plain": [
       "interactive(children=(IntSlider(value=5, description='x', max=9, min=1), Output()), _dom_classes=('widget-inte…"
      ]
     },
     "metadata": {},
     "output_type": "display_data"
    }
   ],
   "source": [
    "pos = nx.spring_layout(G, seed = 5)\n",
    "edge_labels = nx.get_edge_attributes(G, \"weight\")\n",
    "@interact\n",
    "def show_articles_more_than(x=(1, len(set(G))-1, 1)):\n",
    "    nx.draw(G, pos)\n",
    "    nx.draw_networkx_nodes(G, pos, nodelist=unic_(kraskal(e,x)),\n",
    "                       node_color = 'blue', node_size = 500)\n",
    "#     nx.draw_networkx_labels(G, pos)\n",
    "    nx.draw_networkx_edges(G, pos, edgelist = kraskal(e,x), edge_color='r', width=6)\n",
    "    nx.draw_networkx_edge_labels(G, pos, edge_labels)\n",
    "    return plt.show()"
   ]
  },
  {
   "cell_type": "markdown",
   "id": "2e27640c",
   "metadata": {},
   "source": [
    "# Прима"
   ]
  },
  {
   "cell_type": "code",
   "execution_count": 12,
   "id": "cd230ced",
   "metadata": {},
   "outputs": [
    {
     "data": {
      "application/vnd.jupyter.widget-view+json": {
       "model_id": "6c2d2f33b70d4b2a9ddd1df840f8bfec",
       "version_major": 2,
       "version_minor": 0
      },
      "text/plain": [
       "interactive(children=(IntSlider(value=5, description='x', max=9, min=1), Output()), _dom_classes=('widget-inte…"
      ]
     },
     "metadata": {},
     "output_type": "display_data"
    }
   ],
   "source": [
    "pos = nx.spring_layout(G, seed = 5)\n",
    "edge_labels = nx.get_edge_attributes(G, \"weight\")\n",
    "@interact\n",
    "def show_articles_more_than(x=(1, len(set(G))-1, 1)):\n",
    "    nx.draw(G, pos)\n",
    "    nx.draw_networkx_nodes(G, pos, nodelist=unic_(prima(e,x)),\n",
    "                       node_color = 'red', node_size = 500)\n",
    "    nx.draw_networkx_labels(G, pos)\n",
    "    nx.draw_networkx_edges(G, pos, edgelist = prima(e,x), edge_color='r', width=6)\n",
    "    nx.draw_networkx_edge_labels(G, pos, edge_labels)\n",
    "    return plt.show()"
   ]
  },
  {
   "cell_type": "code",
   "execution_count": null,
   "id": "300ca7c3",
   "metadata": {},
   "outputs": [],
   "source": []
  }
 ],
 "metadata": {
  "kernelspec": {
   "display_name": "Python 3 (ipykernel)",
   "language": "python",
   "name": "python3"
  },
  "language_info": {
   "codemirror_mode": {
    "name": "ipython",
    "version": 3
   },
   "file_extension": ".py",
   "mimetype": "text/x-python",
   "name": "python",
   "nbconvert_exporter": "python",
   "pygments_lexer": "ipython3",
   "version": "3.9.12"
  }
 },
 "nbformat": 4,
 "nbformat_minor": 5
}
