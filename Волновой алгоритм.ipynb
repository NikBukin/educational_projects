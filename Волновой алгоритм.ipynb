{
 "cells": [
  {
   "cell_type": "code",
   "execution_count": 1,
   "id": "559b9066",
   "metadata": {},
   "outputs": [],
   "source": [
    "from random import *\n",
    "import numpy as np\n",
    "import pandas as pd"
   ]
  },
  {
   "cell_type": "markdown",
   "id": "84557981",
   "metadata": {},
   "source": [
    "##### Задаем матрицу с 0 и 1 (0 0 пустые клетки 1 - стены)"
   ]
  },
  {
   "cell_type": "code",
   "execution_count": 2,
   "id": "6acbf4ab",
   "metadata": {},
   "outputs": [],
   "source": [
    "N = 10\n",
    "M = 10\n",
    "lab = [[0] * M for i in range(N)]\n",
    "for i in range(0,N,2):\n",
    "    for j in range(M):\n",
    "        lab[i][j] = randint(0,1)"
   ]
  },
  {
   "cell_type": "markdown",
   "id": "6c58bd29",
   "metadata": {},
   "source": [
    "##### Выводим, чтобы глянуть на него"
   ]
  },
  {
   "cell_type": "code",
   "execution_count": 3,
   "id": "237f1d77",
   "metadata": {},
   "outputs": [
    {
     "name": "stdout",
     "output_type": "stream",
     "text": [
      "1 0 0 0 1 0 1 0 0 1 \n",
      "0 0 0 0 0 0 0 0 0 0 \n",
      "1 1 1 0 1 1 0 0 0 0 \n",
      "0 0 0 0 0 0 0 0 0 0 \n",
      "1 1 0 0 0 0 0 1 1 0 \n",
      "0 0 0 0 0 0 0 0 0 0 \n",
      "0 0 0 0 1 1 1 1 0 1 \n",
      "0 0 0 0 0 0 0 0 0 0 \n",
      "1 0 0 1 0 1 0 1 1 1 \n",
      "0 0 0 0 0 0 0 0 0 0 \n"
     ]
    }
   ],
   "source": [
    "for i in range(len(lab)):\n",
    "    for j in range(len(lab[i])):\n",
    "        print(lab[i][j], end = ' ')\n",
    "    print()           "
   ]
  },
  {
   "cell_type": "markdown",
   "id": "9a897e0d",
   "metadata": {},
   "source": [
    "##### Задаем функцию, которая будет просматривать ближайшие точки и заполнит матрицу прохода"
   ]
  },
  {
   "cell_type": "code",
   "execution_count": 4,
   "id": "12ebd908",
   "metadata": {},
   "outputs": [],
   "source": [
    "def make_step(k,res):\n",
    "    for i in range(len(res)):\n",
    "        for j in range(len(res[i])):\n",
    "            if res[i][j] == k:\n",
    "                # для шагов лево, право, вверх, вниз\n",
    "                if i>0 and res[i-1][j] == 0 and lab[i-1][j] == 0:\n",
    "                    res[i-1][j] = k + 1\n",
    "                if j>0 and res[i][j-1] == 0 and lab[i][j-1] == 0:\n",
    "                   res[i][j-1] = k + 1\n",
    "                if i<len(res)-1 and res[i+1][j] == 0 and lab[i+1][j] == 0:\n",
    "                   res[i+1][j] = k + 1\n",
    "                if j<len(res[i])-1 and res[i][j+1] == 0 and lab[i][j+1] == 0:\n",
    "                   res[i][j+1] = k + 1\n",
    "                # для шагов по диагонали\n",
    "                if i<len(res)-1 and j<len(res[i])-1 and res[i+1][j+1] == 0 and lab[i+1][j+1] == 0:\n",
    "                   res[i+1][j+1] = k + 1\n",
    "                if j<len(res[i])-1 and i>0 and res[i-1][j+1] == 0 and lab[i-11][j+1] == 0:\n",
    "                   res[i-1][j+1] = k + 1\n",
    "                if i<len(res)-1 and j>0 and res[i+1][j-1] == 0 and lab[i+1][j-1] == 0:\n",
    "                   res[i+1][j-1] = k + 1\n",
    "                if i>0 and j>0 and res[i-1][j-1] == 0 and lab[i-1][j-1] == 0:\n",
    "                   res[i-1][j-1] = k + 1\n",
    "    return res"
   ]
  },
  {
   "cell_type": "code",
   "execution_count": null,
   "id": "2864769e",
   "metadata": {},
   "outputs": [],
   "source": [
    "make_step(1,)"
   ]
  },
  {
   "cell_type": "markdown",
   "id": "d75f7be9",
   "metadata": {},
   "source": [
    "##### Задаем функцию, которая будет искать путь обратно"
   ]
  },
  {
   "cell_type": "code",
   "execution_count": 46,
   "id": "58aa006a",
   "metadata": {},
   "outputs": [],
   "source": [
    "def way(fin_num_str, fin_num_col, res):\n",
    "    x,y = fin_num_str-1,fin_num_col-1\n",
    "    k = res[x][y]\n",
    "    answer = [(x+1,y+1)]\n",
    "    while k > 1:\n",
    "        # для шагов лево, право, вверх, вниз\n",
    "        if x > 0 and res[x - 1][y] == k-1:\n",
    "            x, y = x-1, y\n",
    "            answer.append((x+1, y+1))\n",
    "            k-=1\n",
    "        elif y > 0 and res[x][y - 1] == k-1:\n",
    "            x, y = x, y-1\n",
    "            answer.append((x+1, y+1))\n",
    "            k-=1\n",
    "        elif x < len(res) - 1 and res[x + 1][y] == k-1:\n",
    "            x, y = x+1, y\n",
    "            answer.append((x+1, y+1))\n",
    "            k-=1\n",
    "        elif y < len(res[x]) - 1 and res[x][y + 1] == k-1:\n",
    "            x, y = x, y+1\n",
    "            answer.append((x+1, y+1))\n",
    "            k -= 1\n",
    "        # для шагов по диагонали \n",
    "        elif y < len(res[x]) - 1 and x < len(res) - 1 and res[x + 1][y + 1] == k-1:\n",
    "            x, y = x+1, y+1\n",
    "            answer.append((x+1, y+1))\n",
    "            k -= 1\n",
    "        elif y < len(res[x]) - 1 and x > 0 and res[x-1][y + 1] == k-1:\n",
    "            x, y = x-1, y+1\n",
    "            answer.append((x+1, y+1))\n",
    "            k -= 1\n",
    "        elif x < len(res) - 1 and y > 0 and res[x+1][y-1] == k-1:\n",
    "            x, y = x+1, y-1\n",
    "            answer.append((x+1, y+1))\n",
    "            k -= 1\n",
    "        elif x > 0 and y > 0 and res[x-1][y-1] == k-1:\n",
    "            x, y = x-1, y-1\n",
    "            answer.append((x+1, y+1))\n",
    "            k -= 1\n",
    "    answer.reverse()\n",
    "    return answer"
   ]
  },
  {
   "cell_type": "markdown",
   "id": "9436e53b",
   "metadata": {},
   "source": [
    "##### Применяем все "
   ]
  },
  {
   "cell_type": "code",
   "execution_count": 47,
   "id": "c9dcb774",
   "metadata": {},
   "outputs": [],
   "source": [
    "#функция алгоритма работающая от переданой матрицы и позиции начального и конечного элемента \n",
    "def li(labirint, st_num_col, st_num_str, fin_num_str, fin_num_col): \n",
    "    res = np.zeros((10,10))\n",
    "    res[st_num_col-1][st_num_str -1] = 1\n",
    "    for i in range(len(lab)*len(lab[0])): \n",
    "        res = make_step(i+1, res)\n",
    "    answer = way(fin_num_str-1, fin_num_col-1, res)\n",
    "    return answer, res"
   ]
  },
  {
   "cell_type": "markdown",
   "id": "a2d6f711",
   "metadata": {},
   "source": [
    "##### Получаем ответ"
   ]
  },
  {
   "cell_type": "code",
   "execution_count": 50,
   "id": "3b2c0438",
   "metadata": {},
   "outputs": [
    {
     "data": {
      "text/plain": [
       "([(3, 2), (4, 1)],\n",
       " array([[ 3.,  0.,  3.,  3.,  0.,  5.,  0.,  0.,  0.,  9.],\n",
       "        [ 2.,  2.,  2.,  3.,  4.,  5.,  6.,  7.,  8.,  9.],\n",
       "        [ 0.,  1.,  0.,  3.,  0.,  5.,  6.,  0.,  0.,  0.],\n",
       "        [ 2.,  2.,  2.,  3.,  4.,  5.,  6.,  7.,  8.,  9.],\n",
       "        [ 3.,  3.,  0.,  0.,  0.,  0.,  6.,  7.,  8.,  9.],\n",
       "        [ 4.,  4.,  4.,  5.,  6.,  7.,  7.,  7.,  8.,  9.],\n",
       "        [ 5.,  5.,  5.,  5.,  6.,  0.,  0.,  8.,  0.,  9.],\n",
       "        [ 6.,  6.,  6.,  6.,  6.,  7.,  8.,  9.,  9., 10.],\n",
       "        [ 0.,  0.,  7.,  7.,  7.,  7.,  0.,  0., 10., 10.],\n",
       "        [ 9.,  8.,  8.,  8.,  8.,  8.,  8.,  9., 10., 11.]]))"
      ]
     },
     "execution_count": 50,
     "metadata": {},
     "output_type": "execute_result"
    }
   ],
   "source": [
    "li(lab,3,2,5,2)"
   ]
  },
  {
   "cell_type": "code",
   "execution_count": null,
   "id": "eace7d84",
   "metadata": {},
   "outputs": [],
   "source": []
  }
 ],
 "metadata": {
  "kernelspec": {
   "display_name": "Python 3 (ipykernel)",
   "language": "python",
   "name": "python3"
  },
  "language_info": {
   "codemirror_mode": {
    "name": "ipython",
    "version": 3
   },
   "file_extension": ".py",
   "mimetype": "text/x-python",
   "name": "python",
   "nbconvert_exporter": "python",
   "pygments_lexer": "ipython3",
   "version": "3.9.12"
  }
 },
 "nbformat": 4,
 "nbformat_minor": 5
}
