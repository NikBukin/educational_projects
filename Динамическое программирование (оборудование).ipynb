{
 "cells": [
  {
   "cell_type": "code",
   "execution_count": 1,
   "id": "53ab486d",
   "metadata": {},
   "outputs": [],
   "source": [
    "#тестовые данные с лекции\n",
    "dict_ = {0: [80,20], 1: [75,25], 2: [65,30], 3: [60,35], 4: [60,45], 5: [55,55]}\n",
    "repl = 40"
   ]
  },
  {
   "cell_type": "code",
   "execution_count": 2,
   "id": "5b7872da",
   "metadata": {},
   "outputs": [],
   "source": [
    "#Основная задача\n",
    "dict_ = {0: [25,15], 1: [24,15], 2: [24,16], 3: [23,16], 4: [23,17], 5: [23,17], 6: [22,18], 7: [22,18], 8: [21,19], 9:[20,20]}\n",
    "repl = 10"
   ]
  },
  {
   "cell_type": "code",
   "execution_count": 3,
   "id": "96d98444",
   "metadata": {},
   "outputs": [],
   "source": [
    "def dinam_prog(dict_, repl):\n",
    "    \n",
    "    #создание словарей\n",
    "    F = {i+1:{} for i in range(len(dict_)-1)}\n",
    "    cond = {i+1:{} for i in range(len(dict_)-1)}\n",
    "    # создание словарей в словарях\n",
    "    for i in range(len(F)): F[len(dict_)-1-i] = {i+1:{} for i in range(len(dict_)-2-i)}  \n",
    "        \n",
    "    # рассчет последнего дня\n",
    "    for i in range((len(dict_)-2)): \n",
    "        F[(len(dict_)-1)][i+1]= [(dict_[i+1][0]-dict_[i+1][1]),(dict_[0][0]-dict_[0][1] - repl)]\n",
    "        if (dict_[i+1][0]-dict_[i+1][1]) > (dict_[0][0]-dict_[0][1] - repl):\n",
    "            cond[(len(dict_)-1)][i+1] = ['сохраняем',i+1]\n",
    "        else:\n",
    "            cond[(len(dict_)-1)][i+1] = ['меняем',i+1]\n",
    "    #Расчет оставшихся дней\n",
    "    for j in range(len(dict_)-2):\n",
    "        for i in range(len(dict_)-j-3):\n",
    "            F[(len(dict_)-j-2)][i+1]= [(dict_[i+1][0]-dict_[i+1][1]+ max(F[len(dict_)-j-1][i+2])),\n",
    "                                       (dict_[0][0]-dict_[0][1] - repl + max(F[len(dict_)-j-1][1]))]\n",
    "            if (dict_[i+1][0]-dict_[i+1][1]+\n",
    "                max(F[len(dict_)-j-1][i+2])) > (dict_[0][0]-dict_[0][1] - repl + \n",
    "                                                max(F[len(dict_)-j-1][1])):\n",
    "                cond[(len(dict_)-j-2)][i+1] = ['сохраняем',i+1]\n",
    "            else:\n",
    "                cond[(len(dict_)-j-2)][i+1] = ['меняем',i+1]\n",
    "\n",
    "    #создание словаря с оптимальным планом замен\n",
    "    time_change = 0\n",
    "    cond_opt = {i+1:'сохраняем' for i in range(len(dict_)-1)}\n",
    "    for j in range(len(dict_)-2):\n",
    "        time_change = time_change +1\n",
    "        for i in range(len(cond[j+2])):\n",
    "            if cond[j+2][i+1][0] == \"меняем\":\n",
    "                if cond[j+2][i+1][1] == time_change:\n",
    "                    cond_opt[i+2] = \"заменили\"\n",
    "                    time_change = 0\n",
    "                    \n",
    "    #рассчет оптимального значения            \n",
    "    opt = max(F[2][1]) + dict_[0][0] - dict_[0][1]\n",
    "    return opt, cond_opt\n"
   ]
  },
  {
   "cell_type": "code",
   "execution_count": 4,
   "id": "b59cb544",
   "metadata": {},
   "outputs": [
    {
     "data": {
      "text/plain": [
       "(64,\n",
       " {1: 'сохраняем',\n",
       "  2: 'сохраняем',\n",
       "  3: 'сохраняем',\n",
       "  4: 'сохраняем',\n",
       "  5: 'заменили',\n",
       "  6: 'сохраняем',\n",
       "  7: 'сохраняем',\n",
       "  8: 'сохраняем',\n",
       "  9: 'сохраняем'})"
      ]
     },
     "execution_count": 4,
     "metadata": {},
     "output_type": "execute_result"
    }
   ],
   "source": [
    "dinam_prog(dict_, repl)"
   ]
  },
  {
   "cell_type": "code",
   "execution_count": 5,
   "id": "7e9b4472",
   "metadata": {},
   "outputs": [
    {
     "data": {
      "text/plain": [
       "(67,\n",
       " {1: 'сохраняем',\n",
       "  2: 'сохраняем',\n",
       "  3: 'сохраняем',\n",
       "  4: 'заменили',\n",
       "  5: 'сохраняем',\n",
       "  6: 'сохраняем',\n",
       "  7: 'сохраняем',\n",
       "  8: 'сохраняем',\n",
       "  9: 'сохраняем'})"
      ]
     },
     "execution_count": 5,
     "metadata": {},
     "output_type": "execute_result"
    }
   ],
   "source": [
    "repl = 7\n",
    "dinam_prog(dict_, repl)"
   ]
  },
  {
   "cell_type": "code",
   "execution_count": null,
   "id": "ca5dd599",
   "metadata": {},
   "outputs": [],
   "source": []
  }
 ],
 "metadata": {
  "kernelspec": {
   "display_name": "Python 3 (ipykernel)",
   "language": "python",
   "name": "python3"
  },
  "language_info": {
   "codemirror_mode": {
    "name": "ipython",
    "version": 3
   },
   "file_extension": ".py",
   "mimetype": "text/x-python",
   "name": "python",
   "nbconvert_exporter": "python",
   "pygments_lexer": "ipython3",
   "version": "3.9.12"
  }
 },
 "nbformat": 4,
 "nbformat_minor": 5
}
