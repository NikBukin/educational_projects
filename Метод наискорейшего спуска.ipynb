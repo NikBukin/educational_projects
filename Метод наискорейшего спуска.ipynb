{
 "cells": [
  {
   "cell_type": "code",
   "execution_count": 66,
   "id": "b7840c61",
   "metadata": {},
   "outputs": [],
   "source": [
    "import numpy as np"
   ]
  },
  {
   "cell_type": "code",
   "execution_count": 67,
   "id": "f34fcb08",
   "metadata": {},
   "outputs": [],
   "source": [
    "def F(x):\n",
    "    return 2*x[0]**2 + 5*x[1]**2 + x[0]*x[1] - 3*x[0] - x[1]\n",
    "def grad(x):\n",
    "    return np.array([4*x[0] + x[1] - 3 , 10*x[1] + x[0] - 1])"
   ]
  },
  {
   "cell_type": "code",
   "execution_count": 68,
   "id": "87cf1655",
   "metadata": {},
   "outputs": [],
   "source": [
    "def mindih(A):\n",
    "    b1 = -100\n",
    "    b2 = 100\n",
    "    e = 0.0001\n",
    "    d = e / 2\n",
    "    x1 = (b1 + b2 - d) / 2\n",
    "    x2 = (b1 + b2 + d) / 2\n",
    "\n",
    "    while (b2 - b1)/2 > e:\n",
    "        if A(x1) > A(x2): b1 = x1\n",
    "        else: b2 = x2\n",
    "        x1 = (b1 + b2 - d) / 2\n",
    "        x2 = (b1 + b2 + d) / 2\n",
    "    a = (b2+b1)/2\n",
    "    return a"
   ]
  },
  {
   "cell_type": "code",
   "execution_count": 91,
   "id": "cee4c902",
   "metadata": {},
   "outputs": [],
   "source": [
    "def minspeed(e):\n",
    "    x = [1.,1.]\n",
    "    counter = 0\n",
    "    while (grad(x)[0]**2 + grad(x)[1]**2)**(1/2)>e:\n",
    "        \n",
    "        for i in range(len(x)): x[i] = x[i] - mindih(lambda a: F(x - a*grad(x)))*grad(x)[i]\n",
    "            \n",
    "        counter += 1\n",
    "        \n",
    "        print([counter, x,F(x), mindih(lambda a: F(x - a*grad(x)))])\n",
    "        \n",
    "    return [F(x),x]\n",
    "    "
   ]
  },
  {
   "cell_type": "code",
   "execution_count": 92,
   "id": "800f3138",
   "metadata": {},
   "outputs": [
    {
     "name": "stdout",
     "output_type": "stream",
     "text": [
      "[1, [0.803066302895546, 0.03472295500534428], -1.1201776368760743, 0.1535892102599144]\n",
      "[2, [0.7651315854458234, 0.021473127686084004], -1.1272799536358271, 0.25782578698396685]\n",
      "[3, [0.7439900076976133, 0.025561332572430796], -1.1282048079257652, 0.2568721129059792]\n",
      "[4, [0.7435992118760916, 0.02563939720100735], -1.1282051280279908, 0.2593516655087471]\n"
     ]
    },
    {
     "data": {
      "text/plain": [
       "[-1.1282051280279908, [0.7435992118760916, 0.02563939720100735]]"
      ]
     },
     "execution_count": 92,
     "metadata": {},
     "output_type": "execute_result"
    }
   ],
   "source": [
    "minspeed(0.0001)"
   ]
  },
  {
   "cell_type": "code",
   "execution_count": null,
   "id": "a938809e",
   "metadata": {},
   "outputs": [],
   "source": []
  }
 ],
 "metadata": {
  "kernelspec": {
   "display_name": "Python 3 (ipykernel)",
   "language": "python",
   "name": "python3"
  },
  "language_info": {
   "codemirror_mode": {
    "name": "ipython",
    "version": 3
   },
   "file_extension": ".py",
   "mimetype": "text/x-python",
   "name": "python",
   "nbconvert_exporter": "python",
   "pygments_lexer": "ipython3",
   "version": "3.9.12"
  }
 },
 "nbformat": 4,
 "nbformat_minor": 5
}
